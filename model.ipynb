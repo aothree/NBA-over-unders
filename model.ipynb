{
 "cells": [
  {
   "cell_type": "code",
   "execution_count": 40,
   "id": "2772d64d-590a-451c-8414-00d24e830a8f",
   "metadata": {},
   "outputs": [],
   "source": [
    "import pandas as pd\n",
    "from sklearn.linear_model import LogisticRegression\n",
    "from sklearn.model_selection import train_test_split\n",
    "from sklearn.pipeline import make_pipeline\n",
    "from sklearn.preprocessing import StandardScaler"
   ]
  },
  {
   "cell_type": "code",
   "execution_count": 27,
   "id": "e004a5ed-1542-45bd-86d4-a8bcceb2168f",
   "metadata": {},
   "outputs": [],
   "source": [
    "over_unders = pd.read_csv('historical_over_under_data.csv')\n",
    "stats = pd.read_csv('team_stats_00_22.csv')"
   ]
  },
  {
   "cell_type": "code",
   "execution_count": 28,
   "id": "debba918-e28c-4bcf-be7d-ff94d3a3c1d2",
   "metadata": {},
   "outputs": [
    {
     "name": "stdout",
     "output_type": "stream",
     "text": [
      "(578, 4)\n"
     ]
    },
    {
     "data": {
      "text/html": [
       "<div>\n",
       "<style scoped>\n",
       "    .dataframe tbody tr th:only-of-type {\n",
       "        vertical-align: middle;\n",
       "    }\n",
       "\n",
       "    .dataframe tbody tr th {\n",
       "        vertical-align: top;\n",
       "    }\n",
       "\n",
       "    .dataframe thead th {\n",
       "        text-align: right;\n",
       "    }\n",
       "</style>\n",
       "<table border=\"1\" class=\"dataframe\">\n",
       "  <thead>\n",
       "    <tr style=\"text-align: right;\">\n",
       "      <th></th>\n",
       "      <th>Team</th>\n",
       "      <th>win_total</th>\n",
       "      <th>actual_wins</th>\n",
       "      <th>result</th>\n",
       "    </tr>\n",
       "  </thead>\n",
       "  <tbody>\n",
       "    <tr>\n",
       "      <th>0</th>\n",
       "      <td>Atlanta Hawks_00</td>\n",
       "      <td>46.5</td>\n",
       "      <td>28</td>\n",
       "      <td>U</td>\n",
       "    </tr>\n",
       "    <tr>\n",
       "      <th>1</th>\n",
       "      <td>Atlanta Hawks_02</td>\n",
       "      <td>36.5</td>\n",
       "      <td>33</td>\n",
       "      <td>U</td>\n",
       "    </tr>\n",
       "    <tr>\n",
       "      <th>2</th>\n",
       "      <td>Atlanta Hawks_03</td>\n",
       "      <td>41.5</td>\n",
       "      <td>35</td>\n",
       "      <td>U</td>\n",
       "    </tr>\n",
       "    <tr>\n",
       "      <th>3</th>\n",
       "      <td>Atlanta Hawks_04</td>\n",
       "      <td>33.0</td>\n",
       "      <td>28</td>\n",
       "      <td>U</td>\n",
       "    </tr>\n",
       "    <tr>\n",
       "      <th>4</th>\n",
       "      <td>Atlanta Hawks_05</td>\n",
       "      <td>27.5</td>\n",
       "      <td>13</td>\n",
       "      <td>U</td>\n",
       "    </tr>\n",
       "  </tbody>\n",
       "</table>\n",
       "</div>"
      ],
      "text/plain": [
       "               Team  win_total  actual_wins result\n",
       "0  Atlanta Hawks_00       46.5           28      U\n",
       "1  Atlanta Hawks_02       36.5           33      U\n",
       "2  Atlanta Hawks_03       41.5           35      U\n",
       "3  Atlanta Hawks_04       33.0           28      U\n",
       "4  Atlanta Hawks_05       27.5           13      U"
      ]
     },
     "execution_count": 28,
     "metadata": {},
     "output_type": "execute_result"
    }
   ],
   "source": [
    "print(over_unders.shape)\n",
    "over_unders.head()"
   ]
  },
  {
   "cell_type": "code",
   "execution_count": 29,
   "id": "a14da5a3-5fc8-4f6a-befe-f0d77a571a5a",
   "metadata": {},
   "outputs": [
    {
     "name": "stdout",
     "output_type": "stream",
     "text": [
      "(595, 24)\n"
     ]
    },
    {
     "data": {
      "text/html": [
       "<div>\n",
       "<style scoped>\n",
       "    .dataframe tbody tr th:only-of-type {\n",
       "        vertical-align: middle;\n",
       "    }\n",
       "\n",
       "    .dataframe tbody tr th {\n",
       "        vertical-align: top;\n",
       "    }\n",
       "\n",
       "    .dataframe thead th {\n",
       "        text-align: right;\n",
       "    }\n",
       "</style>\n",
       "<table border=\"1\" class=\"dataframe\">\n",
       "  <thead>\n",
       "    <tr style=\"text-align: right;\">\n",
       "      <th></th>\n",
       "      <th>Team</th>\n",
       "      <th>Age</th>\n",
       "      <th>W</th>\n",
       "      <th>L</th>\n",
       "      <th>PW</th>\n",
       "      <th>PL</th>\n",
       "      <th>MOV</th>\n",
       "      <th>SOS</th>\n",
       "      <th>SRS</th>\n",
       "      <th>ORtg</th>\n",
       "      <th>...</th>\n",
       "      <th>3PAr</th>\n",
       "      <th>TS%</th>\n",
       "      <th>eFG%</th>\n",
       "      <th>TOV%</th>\n",
       "      <th>ORB%</th>\n",
       "      <th>FT/FGA</th>\n",
       "      <th>opp_eFG%</th>\n",
       "      <th>opp_TOV%</th>\n",
       "      <th>opp_DRB%</th>\n",
       "      <th>opp_FT/FGA</th>\n",
       "    </tr>\n",
       "  </thead>\n",
       "  <tbody>\n",
       "    <tr>\n",
       "      <th>0</th>\n",
       "      <td>Utah Jazz_20</td>\n",
       "      <td>28.5</td>\n",
       "      <td>52.0</td>\n",
       "      <td>20.0</td>\n",
       "      <td>55</td>\n",
       "      <td>17</td>\n",
       "      <td>9.25</td>\n",
       "      <td>-0.29</td>\n",
       "      <td>8.97</td>\n",
       "      <td>117.6</td>\n",
       "      <td>...</td>\n",
       "      <td>0.488</td>\n",
       "      <td>0.597</td>\n",
       "      <td>0.563</td>\n",
       "      <td>12.7</td>\n",
       "      <td>24.5</td>\n",
       "      <td>0.195</td>\n",
       "      <td>0.507</td>\n",
       "      <td>10.3</td>\n",
       "      <td>79.3</td>\n",
       "      <td>0.159</td>\n",
       "    </tr>\n",
       "    <tr>\n",
       "      <th>1</th>\n",
       "      <td>Los Angeles Clippers_20</td>\n",
       "      <td>28.8</td>\n",
       "      <td>47.0</td>\n",
       "      <td>25.0</td>\n",
       "      <td>49</td>\n",
       "      <td>23</td>\n",
       "      <td>6.18</td>\n",
       "      <td>-0.16</td>\n",
       "      <td>6.02</td>\n",
       "      <td>117.6</td>\n",
       "      <td>...</td>\n",
       "      <td>0.400</td>\n",
       "      <td>0.599</td>\n",
       "      <td>0.564</td>\n",
       "      <td>12.2</td>\n",
       "      <td>22.7</td>\n",
       "      <td>0.186</td>\n",
       "      <td>0.531</td>\n",
       "      <td>11.9</td>\n",
       "      <td>79.1</td>\n",
       "      <td>0.186</td>\n",
       "    </tr>\n",
       "    <tr>\n",
       "      <th>2</th>\n",
       "      <td>Phoenix Suns_20</td>\n",
       "      <td>26.6</td>\n",
       "      <td>51.0</td>\n",
       "      <td>21.0</td>\n",
       "      <td>49</td>\n",
       "      <td>23</td>\n",
       "      <td>5.82</td>\n",
       "      <td>-0.15</td>\n",
       "      <td>5.67</td>\n",
       "      <td>117.2</td>\n",
       "      <td>...</td>\n",
       "      <td>0.392</td>\n",
       "      <td>0.597</td>\n",
       "      <td>0.564</td>\n",
       "      <td>11.5</td>\n",
       "      <td>20.8</td>\n",
       "      <td>0.177</td>\n",
       "      <td>0.534</td>\n",
       "      <td>12.4</td>\n",
       "      <td>78.5</td>\n",
       "      <td>0.194</td>\n",
       "    </tr>\n",
       "    <tr>\n",
       "      <th>3</th>\n",
       "      <td>Milwaukee Bucks_20</td>\n",
       "      <td>28.1</td>\n",
       "      <td>46.0</td>\n",
       "      <td>26.0</td>\n",
       "      <td>48</td>\n",
       "      <td>24</td>\n",
       "      <td>5.89</td>\n",
       "      <td>-0.32</td>\n",
       "      <td>5.57</td>\n",
       "      <td>117.2</td>\n",
       "      <td>...</td>\n",
       "      <td>0.404</td>\n",
       "      <td>0.593</td>\n",
       "      <td>0.566</td>\n",
       "      <td>12.0</td>\n",
       "      <td>23.3</td>\n",
       "      <td>0.177</td>\n",
       "      <td>0.536</td>\n",
       "      <td>11.5</td>\n",
       "      <td>79.7</td>\n",
       "      <td>0.157</td>\n",
       "    </tr>\n",
       "    <tr>\n",
       "      <th>4</th>\n",
       "      <td>Philadelphia 76ers_20</td>\n",
       "      <td>27.1</td>\n",
       "      <td>49.0</td>\n",
       "      <td>23.0</td>\n",
       "      <td>48</td>\n",
       "      <td>24</td>\n",
       "      <td>5.58</td>\n",
       "      <td>-0.31</td>\n",
       "      <td>5.28</td>\n",
       "      <td>113.2</td>\n",
       "      <td>...</td>\n",
       "      <td>0.347</td>\n",
       "      <td>0.579</td>\n",
       "      <td>0.541</td>\n",
       "      <td>12.8</td>\n",
       "      <td>23.2</td>\n",
       "      <td>0.225</td>\n",
       "      <td>0.521</td>\n",
       "      <td>13.8</td>\n",
       "      <td>78.2</td>\n",
       "      <td>0.200</td>\n",
       "    </tr>\n",
       "  </tbody>\n",
       "</table>\n",
       "<p>5 rows × 24 columns</p>\n",
       "</div>"
      ],
      "text/plain": [
       "                      Team   Age     W     L  PW  PL   MOV   SOS   SRS   ORtg  \\\n",
       "0             Utah Jazz_20  28.5  52.0  20.0  55  17  9.25 -0.29  8.97  117.6   \n",
       "1  Los Angeles Clippers_20  28.8  47.0  25.0  49  23  6.18 -0.16  6.02  117.6   \n",
       "2          Phoenix Suns_20  26.6  51.0  21.0  49  23  5.82 -0.15  5.67  117.2   \n",
       "3       Milwaukee Bucks_20  28.1  46.0  26.0  48  24  5.89 -0.32  5.57  117.2   \n",
       "4    Philadelphia 76ers_20  27.1  49.0  23.0  48  24  5.58 -0.31  5.28  113.2   \n",
       "\n",
       "   ...   3PAr    TS%   eFG%  TOV%  ORB%  FT/FGA  opp_eFG%  opp_TOV%  opp_DRB%  \\\n",
       "0  ...  0.488  0.597  0.563  12.7  24.5   0.195     0.507      10.3      79.3   \n",
       "1  ...  0.400  0.599  0.564  12.2  22.7   0.186     0.531      11.9      79.1   \n",
       "2  ...  0.392  0.597  0.564  11.5  20.8   0.177     0.534      12.4      78.5   \n",
       "3  ...  0.404  0.593  0.566  12.0  23.3   0.177     0.536      11.5      79.7   \n",
       "4  ...  0.347  0.579  0.541  12.8  23.2   0.225     0.521      13.8      78.2   \n",
       "\n",
       "   opp_FT/FGA  \n",
       "0       0.159  \n",
       "1       0.186  \n",
       "2       0.194  \n",
       "3       0.157  \n",
       "4       0.200  \n",
       "\n",
       "[5 rows x 24 columns]"
      ]
     },
     "execution_count": 29,
     "metadata": {},
     "output_type": "execute_result"
    }
   ],
   "source": [
    "print(stats.shape)\n",
    "stats.head()"
   ]
  },
  {
   "cell_type": "code",
   "execution_count": 30,
   "id": "745cc9ff-788a-459a-896e-ed8396640f84",
   "metadata": {},
   "outputs": [
    {
     "data": {
      "text/plain": [
       "Atlanta Hawks             20\n",
       "Boston Celtics            20\n",
       "Utah Jazz                 20\n",
       "Toronto Raptors           20\n",
       "San Antonio Spurs         20\n",
       "Sacramento Kings          20\n",
       "Portland Trail Blazers    20\n",
       "Phoenix Suns              20\n",
       "Philadelphia 76ers        20\n",
       "Orlando Magic             20\n",
       "Oklahoma City Thunder     20\n",
       "New York Knicks           20\n",
       "Minnesota Timberwolves    20\n",
       "Milwaukee Bucks           20\n",
       "Miami Heat                20\n",
       "Memphis Grizzlies         20\n",
       "Los Angeles Lakers        20\n",
       "Los Angeles Clippers      20\n",
       "Indiana Pacers            20\n",
       "Houston Rockets           20\n",
       "Golden State Warriors     20\n",
       "Detroit Pistons           20\n",
       "Denver Nuggets            20\n",
       "Dallas Mavericks          20\n",
       "Cleveland Cavaliers       20\n",
       "Chicago Bulls             20\n",
       "Brooklyn Nets             20\n",
       "New Orleans Pelicans      18\n",
       "Charlotte Hornets         18\n",
       "Washington Wizards         2\n",
       "Name: Team, dtype: int64"
      ]
     },
     "execution_count": 30,
     "metadata": {},
     "output_type": "execute_result"
    }
   ],
   "source": [
    "o_u_teams = over_unders['Team'].map(lambda x: x[:-3])\n",
    "o_u_teams.value_counts()"
   ]
  },
  {
   "cell_type": "code",
   "execution_count": 31,
   "id": "cd21ee66-94cd-4fb8-ae24-595763579ef2",
   "metadata": {},
   "outputs": [
    {
     "data": {
      "text/plain": [
       "Utah Jazz                           20\n",
       "Miami Heat                          20\n",
       "Orlando Magic                       20\n",
       "Cleveland Cavaliers                 20\n",
       "Houston Rockets                     20\n",
       "Minnesota Timberwolves              20\n",
       "Detroit Pistons                     20\n",
       "Sacramento Kings                    20\n",
       "Washington Wizards                  20\n",
       "San Antonio Spurs                   20\n",
       "Chicago Bulls                       20\n",
       "Los Angeles Clippers                20\n",
       "Indiana Pacers                      20\n",
       "Toronto Raptors                     20\n",
       "Denver Nuggets                      20\n",
       "Golden State Warriors               20\n",
       "Boston Celtics                      20\n",
       "Phoenix Suns                        20\n",
       "Portland Trail Blazers              20\n",
       "Atlanta Hawks                       20\n",
       "New York Knicks                     20\n",
       "Dallas Mavericks                    20\n",
       "Milwaukee Bucks                     20\n",
       "Los Angeles Lakers                  20\n",
       "Philadelphia 76ers                  20\n",
       "Memphis Grizzlies                   18\n",
       "Oklahoma City Thunder               17\n",
       "Charlotte Hornets                   16\n",
       "Brooklyn Nets                       14\n",
       "New Orleans Hornets                  8\n",
       "New Orleans Pelicans                 7\n",
       "New Jersey Nets                      6\n",
       "Seattle SuperSonics                  3\n",
       "Charlotte Bobcats                    2\n",
       "New OrleansOklahoma City Hornets     2\n",
       "Vancouver Grizzlies                  2\n",
       "Name: Team, dtype: int64"
      ]
     },
     "execution_count": 31,
     "metadata": {},
     "output_type": "execute_result"
    }
   ],
   "source": [
    "stats_teams = stats['Team'].map(lambda x: x[:-3])\n",
    "stats_teams.value_counts()"
   ]
  },
  {
   "cell_type": "code",
   "execution_count": 32,
   "id": "81e2a02e-aad3-4db7-9a54-0269ddd2f960",
   "metadata": {},
   "outputs": [
    {
     "data": {
      "text/plain": [
       "(442, 27)"
      ]
     },
     "execution_count": 32,
     "metadata": {},
     "output_type": "execute_result"
    }
   ],
   "source": [
    "df = pd.merge(over_unders, stats, on = 'Team')\n",
    "df.shape"
   ]
  },
  {
   "cell_type": "code",
   "execution_count": 33,
   "id": "2e06eca0-b4af-472c-b8e2-d680a348ad2e",
   "metadata": {},
   "outputs": [
    {
     "data": {
      "text/html": [
       "<div>\n",
       "<style scoped>\n",
       "    .dataframe tbody tr th:only-of-type {\n",
       "        vertical-align: middle;\n",
       "    }\n",
       "\n",
       "    .dataframe tbody tr th {\n",
       "        vertical-align: top;\n",
       "    }\n",
       "\n",
       "    .dataframe thead th {\n",
       "        text-align: right;\n",
       "    }\n",
       "</style>\n",
       "<table border=\"1\" class=\"dataframe\">\n",
       "  <thead>\n",
       "    <tr style=\"text-align: right;\">\n",
       "      <th></th>\n",
       "      <th>Team</th>\n",
       "      <th>win_total</th>\n",
       "      <th>actual_wins</th>\n",
       "      <th>result</th>\n",
       "      <th>Age</th>\n",
       "      <th>W</th>\n",
       "      <th>L</th>\n",
       "      <th>PW</th>\n",
       "      <th>PL</th>\n",
       "      <th>MOV</th>\n",
       "      <th>...</th>\n",
       "      <th>3PAr</th>\n",
       "      <th>TS%</th>\n",
       "      <th>eFG%</th>\n",
       "      <th>TOV%</th>\n",
       "      <th>ORB%</th>\n",
       "      <th>FT/FGA</th>\n",
       "      <th>opp_eFG%</th>\n",
       "      <th>opp_TOV%</th>\n",
       "      <th>opp_DRB%</th>\n",
       "      <th>opp_FT/FGA</th>\n",
       "    </tr>\n",
       "  </thead>\n",
       "  <tbody>\n",
       "    <tr>\n",
       "      <th>0</th>\n",
       "      <td>Atlanta Hawks_00</td>\n",
       "      <td>46.5</td>\n",
       "      <td>28</td>\n",
       "      <td>0.0</td>\n",
       "      <td>26.1</td>\n",
       "      <td>25.0</td>\n",
       "      <td>57.0</td>\n",
       "      <td>26</td>\n",
       "      <td>56</td>\n",
       "      <td>-5.21</td>\n",
       "      <td>...</td>\n",
       "      <td>0.140</td>\n",
       "      <td>0.500</td>\n",
       "      <td>0.456</td>\n",
       "      <td>15.5</td>\n",
       "      <td>28.9</td>\n",
       "      <td>0.206</td>\n",
       "      <td>0.472</td>\n",
       "      <td>13.8</td>\n",
       "      <td>70.8</td>\n",
       "      <td>0.249</td>\n",
       "    </tr>\n",
       "    <tr>\n",
       "      <th>1</th>\n",
       "      <td>Atlanta Hawks_02</td>\n",
       "      <td>36.5</td>\n",
       "      <td>33</td>\n",
       "      <td>0.0</td>\n",
       "      <td>27.2</td>\n",
       "      <td>35.0</td>\n",
       "      <td>47.0</td>\n",
       "      <td>31</td>\n",
       "      <td>51</td>\n",
       "      <td>-3.56</td>\n",
       "      <td>...</td>\n",
       "      <td>0.177</td>\n",
       "      <td>0.527</td>\n",
       "      <td>0.476</td>\n",
       "      <td>15.7</td>\n",
       "      <td>27.9</td>\n",
       "      <td>0.248</td>\n",
       "      <td>0.469</td>\n",
       "      <td>12.1</td>\n",
       "      <td>70.4</td>\n",
       "      <td>0.222</td>\n",
       "    </tr>\n",
       "    <tr>\n",
       "      <th>2</th>\n",
       "      <td>Atlanta Hawks_03</td>\n",
       "      <td>41.5</td>\n",
       "      <td>35</td>\n",
       "      <td>0.0</td>\n",
       "      <td>26.2</td>\n",
       "      <td>28.0</td>\n",
       "      <td>54.0</td>\n",
       "      <td>28</td>\n",
       "      <td>54</td>\n",
       "      <td>-4.65</td>\n",
       "      <td>...</td>\n",
       "      <td>0.191</td>\n",
       "      <td>0.514</td>\n",
       "      <td>0.465</td>\n",
       "      <td>15.4</td>\n",
       "      <td>28.6</td>\n",
       "      <td>0.235</td>\n",
       "      <td>0.476</td>\n",
       "      <td>13.1</td>\n",
       "      <td>70.5</td>\n",
       "      <td>0.234</td>\n",
       "    </tr>\n",
       "    <tr>\n",
       "      <th>3</th>\n",
       "      <td>Atlanta Hawks_04</td>\n",
       "      <td>33.0</td>\n",
       "      <td>28</td>\n",
       "      <td>0.0</td>\n",
       "      <td>26.0</td>\n",
       "      <td>13.0</td>\n",
       "      <td>69.0</td>\n",
       "      <td>16</td>\n",
       "      <td>66</td>\n",
       "      <td>-9.71</td>\n",
       "      <td>...</td>\n",
       "      <td>0.146</td>\n",
       "      <td>0.504</td>\n",
       "      <td>0.464</td>\n",
       "      <td>14.9</td>\n",
       "      <td>30.7</td>\n",
       "      <td>0.212</td>\n",
       "      <td>0.513</td>\n",
       "      <td>14.0</td>\n",
       "      <td>72.1</td>\n",
       "      <td>0.289</td>\n",
       "    </tr>\n",
       "    <tr>\n",
       "      <th>4</th>\n",
       "      <td>Atlanta Hawks_05</td>\n",
       "      <td>27.5</td>\n",
       "      <td>13</td>\n",
       "      <td>0.0</td>\n",
       "      <td>22.7</td>\n",
       "      <td>26.0</td>\n",
       "      <td>56.0</td>\n",
       "      <td>28</td>\n",
       "      <td>54</td>\n",
       "      <td>-4.76</td>\n",
       "      <td>...</td>\n",
       "      <td>0.178</td>\n",
       "      <td>0.534</td>\n",
       "      <td>0.486</td>\n",
       "      <td>14.7</td>\n",
       "      <td>31.4</td>\n",
       "      <td>0.255</td>\n",
       "      <td>0.513</td>\n",
       "      <td>14.1</td>\n",
       "      <td>69.5</td>\n",
       "      <td>0.275</td>\n",
       "    </tr>\n",
       "  </tbody>\n",
       "</table>\n",
       "<p>5 rows × 27 columns</p>\n",
       "</div>"
      ],
      "text/plain": [
       "               Team  win_total  actual_wins  result   Age     W     L  PW  PL  \\\n",
       "0  Atlanta Hawks_00       46.5           28     0.0  26.1  25.0  57.0  26  56   \n",
       "1  Atlanta Hawks_02       36.5           33     0.0  27.2  35.0  47.0  31  51   \n",
       "2  Atlanta Hawks_03       41.5           35     0.0  26.2  28.0  54.0  28  54   \n",
       "3  Atlanta Hawks_04       33.0           28     0.0  26.0  13.0  69.0  16  66   \n",
       "4  Atlanta Hawks_05       27.5           13     0.0  22.7  26.0  56.0  28  54   \n",
       "\n",
       "    MOV  ...   3PAr    TS%   eFG%  TOV%  ORB%  FT/FGA  opp_eFG%  opp_TOV%  \\\n",
       "0 -5.21  ...  0.140  0.500  0.456  15.5  28.9   0.206     0.472      13.8   \n",
       "1 -3.56  ...  0.177  0.527  0.476  15.7  27.9   0.248     0.469      12.1   \n",
       "2 -4.65  ...  0.191  0.514  0.465  15.4  28.6   0.235     0.476      13.1   \n",
       "3 -9.71  ...  0.146  0.504  0.464  14.9  30.7   0.212     0.513      14.0   \n",
       "4 -4.76  ...  0.178  0.534  0.486  14.7  31.4   0.255     0.513      14.1   \n",
       "\n",
       "   opp_DRB%  opp_FT/FGA  \n",
       "0      70.8       0.249  \n",
       "1      70.4       0.222  \n",
       "2      70.5       0.234  \n",
       "3      72.1       0.289  \n",
       "4      69.5       0.275  \n",
       "\n",
       "[5 rows x 27 columns]"
      ]
     },
     "execution_count": 33,
     "metadata": {},
     "output_type": "execute_result"
    }
   ],
   "source": [
    "# binarize our target column, 'result'\n",
    "df['result'] = df['result'].map({'O': 1, 'U': 0})\n",
    "df.head()"
   ]
  },
  {
   "cell_type": "code",
   "execution_count": 34,
   "id": "77d24e74-7fdc-4385-94d3-f2fda0c12027",
   "metadata": {},
   "outputs": [
    {
     "data": {
      "text/plain": [
       "Team           0\n",
       "win_total      0\n",
       "actual_wins    0\n",
       "result         1\n",
       "Age            0\n",
       "W              0\n",
       "L              0\n",
       "PW             0\n",
       "PL             0\n",
       "MOV            0\n",
       "SOS            0\n",
       "SRS            0\n",
       "ORtg           0\n",
       "DRtg           0\n",
       "NRtg           0\n",
       "Pace           0\n",
       "FTr            0\n",
       "3PAr           0\n",
       "TS%            0\n",
       "eFG%           0\n",
       "TOV%           0\n",
       "ORB%           0\n",
       "FT/FGA         0\n",
       "opp_eFG%       0\n",
       "opp_TOV%       0\n",
       "opp_DRB%       0\n",
       "opp_FT/FGA     0\n",
       "dtype: int64"
      ]
     },
     "execution_count": 34,
     "metadata": {},
     "output_type": "execute_result"
    }
   ],
   "source": [
    "df.isnull().sum()"
   ]
  },
  {
   "cell_type": "code",
   "execution_count": 35,
   "id": "c6bfd75f-c78a-4897-93ad-f5e7996e777b",
   "metadata": {},
   "outputs": [
    {
     "data": {
      "text/plain": [
       "(442, 27)"
      ]
     },
     "execution_count": 35,
     "metadata": {},
     "output_type": "execute_result"
    }
   ],
   "source": [
    "df.shape"
   ]
  },
  {
   "cell_type": "code",
   "execution_count": 36,
   "id": "ce02bf6a-e63e-4871-ab8b-def65eb947c6",
   "metadata": {},
   "outputs": [],
   "source": [
    "df = df.dropna() # drop the one row with a NaN"
   ]
  },
  {
   "cell_type": "code",
   "execution_count": 46,
   "id": "e70aa37e-c09f-4dd7-916f-5d6a70b65765",
   "metadata": {},
   "outputs": [],
   "source": [
    "# Set up X and Y\n",
    "X = df.drop(columns = ['Team', 'result', 'actual_wins'])\n",
    "y = df['result']"
   ]
  },
  {
   "cell_type": "code",
   "execution_count": 47,
   "id": "a65c3c63-6957-4832-ba25-963e517f4635",
   "metadata": {},
   "outputs": [],
   "source": [
    "X_train, X_test, y_train, y_test = train_test_split(X,y, random_state = 33)"
   ]
  },
  {
   "cell_type": "code",
   "execution_count": 48,
   "id": "fa65d5f5-94af-4cb1-8386-fc54405cf269",
   "metadata": {},
   "outputs": [],
   "source": [
    "pipe = make_pipeline(StandardScaler(), LogisticRegression())"
   ]
  },
  {
   "cell_type": "code",
   "execution_count": 49,
   "id": "ff82b4c8-f65e-48b8-b01e-de2d14823130",
   "metadata": {},
   "outputs": [
    {
     "data": {
      "text/plain": [
       "Pipeline(steps=[('standardscaler', StandardScaler()),\n",
       "                ('logisticregression', LogisticRegression())])"
      ]
     },
     "execution_count": 49,
     "metadata": {},
     "output_type": "execute_result"
    }
   ],
   "source": [
    "pipe.fit(X_train, y_train)  # apply scaling on training data"
   ]
  },
  {
   "cell_type": "code",
   "execution_count": 50,
   "id": "a38309a8-3f7c-4e62-8e42-2e593f390bc0",
   "metadata": {},
   "outputs": [
    {
     "data": {
      "text/plain": [
       "0.6576576576576577"
      ]
     },
     "execution_count": 50,
     "metadata": {},
     "output_type": "execute_result"
    }
   ],
   "source": [
    "pipe.score(X_test, y_test)"
   ]
  },
  {
   "cell_type": "code",
   "execution_count": 51,
   "id": "ed6c4135-5906-4ae3-9986-2f68c68c2571",
   "metadata": {},
   "outputs": [
    {
     "data": {
      "text/plain": [
       "0.0    0.517007\n",
       "1.0    0.482993\n",
       "Name: result, dtype: float64"
      ]
     },
     "execution_count": 51,
     "metadata": {},
     "output_type": "execute_result"
    }
   ],
   "source": [
    "df['result'].value_counts(normalize = True)"
   ]
  }
 ],
 "metadata": {
  "kernelspec": {
   "display_name": "Python 3 (ipykernel)",
   "language": "python",
   "name": "python3"
  },
  "language_info": {
   "codemirror_mode": {
    "name": "ipython",
    "version": 3
   },
   "file_extension": ".py",
   "mimetype": "text/x-python",
   "name": "python",
   "nbconvert_exporter": "python",
   "pygments_lexer": "ipython3",
   "version": "3.9.7"
  }
 },
 "nbformat": 4,
 "nbformat_minor": 5
}
