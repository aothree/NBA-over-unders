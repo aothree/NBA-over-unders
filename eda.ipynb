{
 "cells": [
  {
   "cell_type": "code",
   "execution_count": 2,
   "id": "c0c1c193-4e38-4775-b56b-4c847d14db47",
   "metadata": {},
   "outputs": [],
   "source": [
    "import pandas as pd\n",
    "import numpy as np\n",
    "import matplotlib.pyplot as plt\n",
    "import seaborn as sns"
   ]
  },
  {
   "cell_type": "code",
   "execution_count": 3,
   "id": "a0d540fc-7f86-4c14-ae7c-d7caa64936eb",
   "metadata": {},
   "outputs": [],
   "source": [
    "df = pd.read_csv('historical_over_under_data.csv', index_col = 0)"
   ]
  },
  {
   "cell_type": "code",
   "execution_count": 4,
   "id": "2b3fe76f-32e3-43fe-93f1-de891ed1e704",
   "metadata": {},
   "outputs": [
    {
     "data": {
      "text/plain": [
       "(578, 4)"
      ]
     },
     "execution_count": 4,
     "metadata": {},
     "output_type": "execute_result"
    }
   ],
   "source": [
    "df.shape"
   ]
  },
  {
   "cell_type": "code",
   "execution_count": 5,
   "id": "069d3061-a1e4-44a2-b010-a8df555c5410",
   "metadata": {},
   "outputs": [
    {
     "data": {
      "text/html": [
       "<div>\n",
       "<style scoped>\n",
       "    .dataframe tbody tr th:only-of-type {\n",
       "        vertical-align: middle;\n",
       "    }\n",
       "\n",
       "    .dataframe tbody tr th {\n",
       "        vertical-align: top;\n",
       "    }\n",
       "\n",
       "    .dataframe thead th {\n",
       "        text-align: right;\n",
       "    }\n",
       "</style>\n",
       "<table border=\"1\" class=\"dataframe\">\n",
       "  <thead>\n",
       "    <tr style=\"text-align: right;\">\n",
       "      <th></th>\n",
       "      <th>Team</th>\n",
       "      <th>win_total</th>\n",
       "      <th>actual_wins</th>\n",
       "      <th>result</th>\n",
       "    </tr>\n",
       "  </thead>\n",
       "  <tbody>\n",
       "    <tr>\n",
       "      <th>0</th>\n",
       "      <td>Atlanta Hawks_99-00</td>\n",
       "      <td>46.5</td>\n",
       "      <td>28</td>\n",
       "      <td>U</td>\n",
       "    </tr>\n",
       "    <tr>\n",
       "      <th>1</th>\n",
       "      <td>Atlanta Hawks_01-02</td>\n",
       "      <td>36.5</td>\n",
       "      <td>33</td>\n",
       "      <td>U</td>\n",
       "    </tr>\n",
       "    <tr>\n",
       "      <th>2</th>\n",
       "      <td>Atlanta Hawks_02-03</td>\n",
       "      <td>41.5</td>\n",
       "      <td>35</td>\n",
       "      <td>U</td>\n",
       "    </tr>\n",
       "    <tr>\n",
       "      <th>3</th>\n",
       "      <td>Atlanta Hawks_03-04</td>\n",
       "      <td>33.0</td>\n",
       "      <td>28</td>\n",
       "      <td>U</td>\n",
       "    </tr>\n",
       "    <tr>\n",
       "      <th>4</th>\n",
       "      <td>Atlanta Hawks_04-05</td>\n",
       "      <td>27.5</td>\n",
       "      <td>13</td>\n",
       "      <td>U</td>\n",
       "    </tr>\n",
       "  </tbody>\n",
       "</table>\n",
       "</div>"
      ],
      "text/plain": [
       "                  Team  win_total  actual_wins result\n",
       "0  Atlanta Hawks_99-00       46.5           28      U\n",
       "1  Atlanta Hawks_01-02       36.5           33      U\n",
       "2  Atlanta Hawks_02-03       41.5           35      U\n",
       "3  Atlanta Hawks_03-04       33.0           28      U\n",
       "4  Atlanta Hawks_04-05       27.5           13      U"
      ]
     },
     "execution_count": 5,
     "metadata": {},
     "output_type": "execute_result"
    }
   ],
   "source": [
    "df.head()"
   ]
  },
  {
   "cell_type": "code",
   "execution_count": 6,
   "id": "22c7c8c5-b4a1-46c8-934a-df7a9864856a",
   "metadata": {},
   "outputs": [
    {
     "data": {
      "text/plain": [
       "U    0.513841\n",
       "O    0.484429\n",
       "P    0.001730\n",
       "Name: result, dtype: float64"
      ]
     },
     "execution_count": 6,
     "metadata": {},
     "output_type": "execute_result"
    }
   ],
   "source": [
    "df['result'].value_counts(normalize = True)"
   ]
  },
  {
   "cell_type": "code",
   "execution_count": 7,
   "id": "479fa08d-70d4-4010-bf26-b41aab6cf46f",
   "metadata": {},
   "outputs": [
    {
     "data": {
      "text/plain": [
       "O    0.6\n",
       "U    0.4\n",
       "Name: result, dtype: float64"
      ]
     },
     "execution_count": 7,
     "metadata": {},
     "output_type": "execute_result"
    }
   ],
   "source": [
    "under25 = df.loc[df.win_total < 25].copy()\n",
    "under25['result'].value_counts(normalize = True)"
   ]
  },
  {
   "cell_type": "code",
   "execution_count": 8,
   "id": "ff45879c-edc9-4fbc-a699-f6f084f20670",
   "metadata": {},
   "outputs": [
    {
     "data": {
      "text/plain": [
       "U    0.6\n",
       "O    0.4\n",
       "Name: result, dtype: float64"
      ]
     },
     "execution_count": 8,
     "metadata": {},
     "output_type": "execute_result"
    }
   ],
   "source": [
    "over53 = df.loc[df.win_total > 53].copy()\n",
    "over53['result'].value_counts(normalize = True)"
   ]
  },
  {
   "cell_type": "markdown",
   "id": "1e947a78-e61a-47ac-a163-2139c0353665",
   "metadata": {},
   "source": [
    "#### For teams who had predicted win totals under 25 or over 53, if you bet overs on the low win totals and unders on the high win totals, you'd have a ~60% success rate."
   ]
  },
  {
   "cell_type": "markdown",
   "id": "44452aa3-8259-44f2-ab9f-6b35042d8600",
   "metadata": {},
   "source": [
    "#### If you make the numbers more extreme (under 23 or over 56), the success rate would be closer to 70%.  "
   ]
  },
  {
   "cell_type": "code",
   "execution_count": 9,
   "id": "c8ad4afc-22b2-49b1-8d49-0f1c9adb2f71",
   "metadata": {},
   "outputs": [
    {
     "data": {
      "text/plain": [
       "O    0.666667\n",
       "U    0.333333\n",
       "Name: result, dtype: float64"
      ]
     },
     "execution_count": 9,
     "metadata": {},
     "output_type": "execute_result"
    }
   ],
   "source": [
    "under23 = df.loc[df.win_total < 23].copy()\n",
    "under23['result'].value_counts(normalize = True)"
   ]
  },
  {
   "cell_type": "code",
   "execution_count": 10,
   "id": "c2ff5142-5a4d-49b5-988a-7e7eefe80da6",
   "metadata": {},
   "outputs": [
    {
     "data": {
      "text/plain": [
       "U    0.707317\n",
       "O    0.292683\n",
       "Name: result, dtype: float64"
      ]
     },
     "execution_count": 10,
     "metadata": {},
     "output_type": "execute_result"
    }
   ],
   "source": [
    "over56 = df.loc[df.win_total > 56].copy()\n",
    "over56['result'].value_counts(normalize = True)"
   ]
  },
  {
   "cell_type": "code",
   "execution_count": 11,
   "id": "76e7f8a5-2e2c-43a8-b71c-996a81c0b73b",
   "metadata": {},
   "outputs": [
    {
     "data": {
      "text/html": [
       "<div>\n",
       "<style scoped>\n",
       "    .dataframe tbody tr th:only-of-type {\n",
       "        vertical-align: middle;\n",
       "    }\n",
       "\n",
       "    .dataframe tbody tr th {\n",
       "        vertical-align: top;\n",
       "    }\n",
       "\n",
       "    .dataframe thead th {\n",
       "        text-align: right;\n",
       "    }\n",
       "</style>\n",
       "<table border=\"1\" class=\"dataframe\">\n",
       "  <thead>\n",
       "    <tr style=\"text-align: right;\">\n",
       "      <th></th>\n",
       "      <th>Team</th>\n",
       "      <th>win_total</th>\n",
       "      <th>actual_wins</th>\n",
       "      <th>result</th>\n",
       "      <th>difference</th>\n",
       "    </tr>\n",
       "  </thead>\n",
       "  <tbody>\n",
       "    <tr>\n",
       "      <th>0</th>\n",
       "      <td>Atlanta Hawks_99-00</td>\n",
       "      <td>46.5</td>\n",
       "      <td>28</td>\n",
       "      <td>U</td>\n",
       "      <td>-18.5</td>\n",
       "    </tr>\n",
       "    <tr>\n",
       "      <th>1</th>\n",
       "      <td>Atlanta Hawks_01-02</td>\n",
       "      <td>36.5</td>\n",
       "      <td>33</td>\n",
       "      <td>U</td>\n",
       "      <td>-3.5</td>\n",
       "    </tr>\n",
       "    <tr>\n",
       "      <th>2</th>\n",
       "      <td>Atlanta Hawks_02-03</td>\n",
       "      <td>41.5</td>\n",
       "      <td>35</td>\n",
       "      <td>U</td>\n",
       "      <td>-6.5</td>\n",
       "    </tr>\n",
       "    <tr>\n",
       "      <th>3</th>\n",
       "      <td>Atlanta Hawks_03-04</td>\n",
       "      <td>33.0</td>\n",
       "      <td>28</td>\n",
       "      <td>U</td>\n",
       "      <td>-5.0</td>\n",
       "    </tr>\n",
       "    <tr>\n",
       "      <th>4</th>\n",
       "      <td>Atlanta Hawks_04-05</td>\n",
       "      <td>27.5</td>\n",
       "      <td>13</td>\n",
       "      <td>U</td>\n",
       "      <td>-14.5</td>\n",
       "    </tr>\n",
       "  </tbody>\n",
       "</table>\n",
       "</div>"
      ],
      "text/plain": [
       "                  Team  win_total  actual_wins result  difference\n",
       "0  Atlanta Hawks_99-00       46.5           28      U       -18.5\n",
       "1  Atlanta Hawks_01-02       36.5           33      U        -3.5\n",
       "2  Atlanta Hawks_02-03       41.5           35      U        -6.5\n",
       "3  Atlanta Hawks_03-04       33.0           28      U        -5.0\n",
       "4  Atlanta Hawks_04-05       27.5           13      U       -14.5"
      ]
     },
     "execution_count": 11,
     "metadata": {},
     "output_type": "execute_result"
    }
   ],
   "source": [
    "df['difference'] = df['actual_wins'] - df['win_total'] \n",
    "df.head()"
   ]
  },
  {
   "cell_type": "code",
   "execution_count": 12,
   "id": "191e9d9a-ca8b-4581-9240-97e408161736",
   "metadata": {},
   "outputs": [
    {
     "data": {
      "text/plain": [
       "count    578.000000\n",
       "mean      -0.344291\n",
       "std        8.328813\n",
       "min      -31.500000\n",
       "25%       -5.500000\n",
       "50%       -0.500000\n",
       "75%        4.875000\n",
       "max       27.500000\n",
       "Name: difference, dtype: float64"
      ]
     },
     "execution_count": 12,
     "metadata": {},
     "output_type": "execute_result"
    }
   ],
   "source": [
    "df['difference'].describe()\n",
    "\n",
    "# makes sense the avg difference is close 0.  Vegas is good at what they do.  \n",
    "# Note though that the mean is slightly to the negative side, meaning there are slightly more unders than overs"
   ]
  },
  {
   "cell_type": "code",
   "execution_count": 13,
   "id": "4bd22562-4a2f-4cc8-8d2a-29b4f46c3dcd",
   "metadata": {},
   "outputs": [
    {
     "data": {
      "text/plain": [
       "<AxesSubplot:>"
      ]
     },
     "execution_count": 13,
     "metadata": {},
     "output_type": "execute_result"
    },
    {
     "data": {
      "image/png": "[encoded data removed]",
      "text/plain": [
       "<Figure size 432x288 with 1 Axes>"
      ]
     },
     "metadata": {
      "needs_background": "light"
     },
     "output_type": "display_data"
    }
   ],
   "source": [
    "df['difference'].hist()"
   ]
  },
  {
   "cell_type": "code",
   "execution_count": 14,
   "id": "75582c3a-441d-4c1e-90ad-1023cf015bf4",
   "metadata": {},
   "outputs": [
    {
     "data": {
      "text/plain": [
       "(68, 5)"
      ]
     },
     "execution_count": 14,
     "metadata": {},
     "output_type": "execute_result"
    }
   ],
   "source": [
    "plus10 = df.loc[(df.difference > 9.5)]\n",
    "plus10.shape\n",
    "# 68 of the total 578 teams (11.7%) surpassed their predicted win total by 10 or more games"
   ]
  },
  {
   "cell_type": "code",
   "execution_count": 15,
   "id": "9dd07e28-5c17-40b4-b70b-26dd791a836c",
   "metadata": {},
   "outputs": [
    {
     "data": {
      "text/plain": [
       "(75, 5)"
      ]
     },
     "execution_count": 15,
     "metadata": {},
     "output_type": "execute_result"
    }
   ],
   "source": [
    "minus10 = df.loc[(df.difference < -9.5)]\n",
    "minus10.shape\n",
    "# 75 of the total 518 teams (12.9%) came up short of their predicted win total by 10 or more games"
   ]
  },
  {
   "cell_type": "code",
   "execution_count": 16,
   "id": "18358ba8-fae3-4449-b52f-11d207708d97",
   "metadata": {},
   "outputs": [],
   "source": [
    "ten_plus = pd.concat([plus10, minus10])"
   ]
  },
  {
   "cell_type": "code",
   "execution_count": 17,
   "id": "f3184618-4eb8-49ab-95f0-5a9fe64757f9",
   "metadata": {},
   "outputs": [
    {
     "data": {
      "image/png": "[encoded data removed]",
      "text/plain": [
       "<Figure size 432x288 with 1 Axes>"
      ]
     },
     "metadata": {
      "needs_background": "light"
     },
     "output_type": "display_data"
    }
   ],
   "source": [
    "df['win_total'].hist()\n",
    "plt.title('Distribution of predicted win totals for all teams');"
   ]
  },
  {
   "cell_type": "code",
   "execution_count": 18,
   "id": "066b0f6b-d618-43b1-ab7d-fff1e31d1467",
   "metadata": {},
   "outputs": [
    {
     "data": {
      "image/png": "[encoded data removed]",
      "text/plain": [
       "<Figure size 432x288 with 1 Axes>"
      ]
     },
     "metadata": {
      "needs_background": "light"
     },
     "output_type": "display_data"
    }
   ],
   "source": [
    "ten_plus['win_total'].hist()\n",
    "plt.title('Distribution of predicted win totals for 10+ teams');\n",
    "\n",
    "# the tails for 10+ teams are a little more prominent vs looking at all teams."
   ]
  },
  {
   "cell_type": "markdown",
   "id": "200e4a5e-0ea0-4f46-95a4-752c59e7d34f",
   "metadata": {
    "tags": []
   },
   "source": [
    "#### From 2000-2022, 143 of 578 teams (24.7%) differed from their predicted win total by 10 or more games.  "
   ]
  },
  {
   "cell_type": "code",
   "execution_count": 19,
   "id": "f0b9b576-f7a9-40e4-abfb-5cd174977dd7",
   "metadata": {},
   "outputs": [
    {
     "data": {
      "text/plain": [
       "U    0.524476\n",
       "O    0.475524\n",
       "Name: result, dtype: float64"
      ]
     },
     "execution_count": 19,
     "metadata": {},
     "output_type": "execute_result"
    }
   ],
   "source": [
    "ten_plus['result'].value_counts(normalize = True)"
   ]
  },
  {
   "cell_type": "code",
   "execution_count": 20,
   "id": "6a081d49-0acb-4ced-9de2-6b322fb6bc31",
   "metadata": {},
   "outputs": [
    {
     "data": {
      "text/plain": [
       "count    143.000000\n",
       "mean      39.447552\n",
       "std        9.369322\n",
       "min       20.500000\n",
       "25%       31.500000\n",
       "50%       40.500000\n",
       "75%       46.500000\n",
       "max       59.500000\n",
       "Name: win_total, dtype: float64"
      ]
     },
     "execution_count": 20,
     "metadata": {},
     "output_type": "execute_result"
    }
   ],
   "source": [
    "ten_plus['win_total'].describe()"
   ]
  },
  {
   "cell_type": "code",
   "execution_count": 21,
   "id": "33a0ad31-8ac9-4334-bdfe-8bb34c7165c0",
   "metadata": {},
   "outputs": [
    {
     "data": {
      "text/html": [
       "<div>\n",
       "<style scoped>\n",
       "    .dataframe tbody tr th:only-of-type {\n",
       "        vertical-align: middle;\n",
       "    }\n",
       "\n",
       "    .dataframe tbody tr th {\n",
       "        vertical-align: top;\n",
       "    }\n",
       "\n",
       "    .dataframe thead th {\n",
       "        text-align: right;\n",
       "    }\n",
       "</style>\n",
       "<table border=\"1\" class=\"dataframe\">\n",
       "  <thead>\n",
       "    <tr style=\"text-align: right;\">\n",
       "      <th></th>\n",
       "      <th>Team</th>\n",
       "      <th>win_total</th>\n",
       "      <th>actual_wins</th>\n",
       "      <th>result</th>\n",
       "      <th>difference</th>\n",
       "    </tr>\n",
       "  </thead>\n",
       "  <tbody>\n",
       "    <tr>\n",
       "      <th>0</th>\n",
       "      <td>Atlanta Hawks_99-00</td>\n",
       "      <td>46.5</td>\n",
       "      <td>28</td>\n",
       "      <td>U</td>\n",
       "      <td>-18.5</td>\n",
       "    </tr>\n",
       "    <tr>\n",
       "      <th>1</th>\n",
       "      <td>Atlanta Hawks_01-02</td>\n",
       "      <td>36.5</td>\n",
       "      <td>33</td>\n",
       "      <td>U</td>\n",
       "      <td>-3.5</td>\n",
       "    </tr>\n",
       "    <tr>\n",
       "      <th>2</th>\n",
       "      <td>Atlanta Hawks_02-03</td>\n",
       "      <td>41.5</td>\n",
       "      <td>35</td>\n",
       "      <td>U</td>\n",
       "      <td>-6.5</td>\n",
       "    </tr>\n",
       "    <tr>\n",
       "      <th>3</th>\n",
       "      <td>Atlanta Hawks_03-04</td>\n",
       "      <td>33.0</td>\n",
       "      <td>28</td>\n",
       "      <td>U</td>\n",
       "      <td>-5.0</td>\n",
       "    </tr>\n",
       "    <tr>\n",
       "      <th>4</th>\n",
       "      <td>Atlanta Hawks_04-05</td>\n",
       "      <td>27.5</td>\n",
       "      <td>13</td>\n",
       "      <td>U</td>\n",
       "      <td>-14.5</td>\n",
       "    </tr>\n",
       "    <tr>\n",
       "      <th>...</th>\n",
       "      <td>...</td>\n",
       "      <td>...</td>\n",
       "      <td>...</td>\n",
       "      <td>...</td>\n",
       "      <td>...</td>\n",
       "    </tr>\n",
       "    <tr>\n",
       "      <th>25</th>\n",
       "      <td>Cleveland Cavaliers_21-22</td>\n",
       "      <td>26.5</td>\n",
       "      <td>44</td>\n",
       "      <td>O</td>\n",
       "      <td>17.5</td>\n",
       "    </tr>\n",
       "    <tr>\n",
       "      <th>26</th>\n",
       "      <td>Orlando Magic_21-22</td>\n",
       "      <td>22.5</td>\n",
       "      <td>22</td>\n",
       "      <td>U</td>\n",
       "      <td>-0.5</td>\n",
       "    </tr>\n",
       "    <tr>\n",
       "      <th>27</th>\n",
       "      <td>Oklahoma City Thunder_21-22</td>\n",
       "      <td>23.5</td>\n",
       "      <td>24</td>\n",
       "      <td>O</td>\n",
       "      <td>0.5</td>\n",
       "    </tr>\n",
       "    <tr>\n",
       "      <th>28</th>\n",
       "      <td>Detroit Pistons_21-22</td>\n",
       "      <td>24.5</td>\n",
       "      <td>23</td>\n",
       "      <td>U</td>\n",
       "      <td>-1.5</td>\n",
       "    </tr>\n",
       "    <tr>\n",
       "      <th>29</th>\n",
       "      <td>Houston Rockets_21-22</td>\n",
       "      <td>27.5</td>\n",
       "      <td>20</td>\n",
       "      <td>U</td>\n",
       "      <td>-7.5</td>\n",
       "    </tr>\n",
       "  </tbody>\n",
       "</table>\n",
       "<p>578 rows × 5 columns</p>\n",
       "</div>"
      ],
      "text/plain": [
       "                           Team  win_total  actual_wins result  difference\n",
       "0           Atlanta Hawks_99-00       46.5           28      U       -18.5\n",
       "1           Atlanta Hawks_01-02       36.5           33      U        -3.5\n",
       "2           Atlanta Hawks_02-03       41.5           35      U        -6.5\n",
       "3           Atlanta Hawks_03-04       33.0           28      U        -5.0\n",
       "4           Atlanta Hawks_04-05       27.5           13      U       -14.5\n",
       "..                          ...        ...          ...    ...         ...\n",
       "25    Cleveland Cavaliers_21-22       26.5           44      O        17.5\n",
       "26          Orlando Magic_21-22       22.5           22      U        -0.5\n",
       "27  Oklahoma City Thunder_21-22       23.5           24      O         0.5\n",
       "28        Detroit Pistons_21-22       24.5           23      U        -1.5\n",
       "29        Houston Rockets_21-22       27.5           20      U        -7.5\n",
       "\n",
       "[578 rows x 5 columns]"
      ]
     },
     "execution_count": 21,
     "metadata": {},
     "output_type": "execute_result"
    }
   ],
   "source": [
    "df"
   ]
  }
 ],
 "metadata": {
  "kernelspec": {
   "display_name": "Python 3 (ipykernel)",
   "language": "python",
   "name": "python3"
  },
  "language_info": {
   "codemirror_mode": {
    "name": "ipython",
    "version": 3
   },
   "file_extension": ".py",
   "mimetype": "text/x-python",
   "name": "python",
   "nbconvert_exporter": "python",
   "pygments_lexer": "ipython3",
   "version": "3.9.7"
  }
 },
 "nbformat": 4,
 "nbformat_minor": 5
}
