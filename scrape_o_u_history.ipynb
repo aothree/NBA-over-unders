{
 "cells": [
  {
   "cell_type": "code",
   "execution_count": 2,
   "id": "fef264c8-aea7-44b9-86b3-595fd7291c8e",
   "metadata": {},
   "outputs": [],
   "source": [
    "import pandas as pd\n",
    "import numpy as np\n",
    "import matplotlib.pyplot as plt\n",
    "pd.options.display.max_columns = 999"
   ]
  },
  {
   "cell_type": "markdown",
   "id": "c1a9c199-16dd-431f-a9d2-a7709847f1da",
   "metadata": {},
   "source": [
    "### Scrape 2010-2019 data"
   ]
  },
  {
   "cell_type": "code",
   "execution_count": 3,
   "id": "95a18db0-3e1a-49eb-b2e1-1d3c8b56e5c0",
   "metadata": {},
   "outputs": [
    {
     "data": {
      "text/html": [
       "<div>\n",
       "<style scoped>\n",
       "    .dataframe tbody tr th:only-of-type {\n",
       "        vertical-align: middle;\n",
       "    }\n",
       "\n",
       "    .dataframe tbody tr th {\n",
       "        vertical-align: top;\n",
       "    }\n",
       "\n",
       "    .dataframe thead th {\n",
       "        text-align: right;\n",
       "    }\n",
       "</style>\n",
       "<table border=\"1\" class=\"dataframe\">\n",
       "  <thead>\n",
       "    <tr style=\"text-align: right;\">\n",
       "      <th></th>\n",
       "      <th>Team</th>\n",
       "      <th>09-10</th>\n",
       "      <th>10-11</th>\n",
       "      <th>12-13</th>\n",
       "      <th>13-14</th>\n",
       "      <th>14-15</th>\n",
       "      <th>15-16</th>\n",
       "      <th>16-17</th>\n",
       "      <th>17-18</th>\n",
       "      <th>18-19</th>\n",
       "    </tr>\n",
       "  </thead>\n",
       "  <tbody>\n",
       "    <tr>\n",
       "      <th>0</th>\n",
       "      <td>Atlanta Hawks</td>\n",
       "      <td>44.5 53 O</td>\n",
       "      <td>46.5 44 U</td>\n",
       "      <td>42.5 44 O</td>\n",
       "      <td>39.5 38 U</td>\n",
       "      <td>42.5 60 O</td>\n",
       "      <td>49.5 48 U</td>\n",
       "      <td>43.5 43 U</td>\n",
       "      <td>25.5 24 U</td>\n",
       "      <td>23.5 29 O</td>\n",
       "    </tr>\n",
       "    <tr>\n",
       "      <th>1</th>\n",
       "      <td>Boston Celtics</td>\n",
       "      <td>56.5 50 U</td>\n",
       "      <td>52.5 56 O</td>\n",
       "      <td>51.5 41 U</td>\n",
       "      <td>28.5 25 U</td>\n",
       "      <td>27 40 O</td>\n",
       "      <td>45.5 48 O</td>\n",
       "      <td>52.5 53 O</td>\n",
       "      <td>53.5 55 O</td>\n",
       "      <td>59 49 U</td>\n",
       "    </tr>\n",
       "    <tr>\n",
       "      <th>2</th>\n",
       "      <td>Brooklyn Nets</td>\n",
       "      <td>27.5 12 U</td>\n",
       "      <td>24.5 24 U</td>\n",
       "      <td>44.5 49 O</td>\n",
       "      <td>52.5 44 U</td>\n",
       "      <td>41.5 38 U</td>\n",
       "      <td>27.5 21 U</td>\n",
       "      <td>21.5 20 U</td>\n",
       "      <td>27.5 28 O</td>\n",
       "      <td>32 42 O</td>\n",
       "    </tr>\n",
       "    <tr>\n",
       "      <th>3</th>\n",
       "      <td>Charlotte Hornets</td>\n",
       "      <td>36.5 44 O</td>\n",
       "      <td>39.5 34 U</td>\n",
       "      <td>19.5 21 O</td>\n",
       "      <td>26 43 O</td>\n",
       "      <td>45 33 U</td>\n",
       "      <td>34 48 O</td>\n",
       "      <td>42.5 36 U</td>\n",
       "      <td>42.5 36 U</td>\n",
       "      <td>35.5 39 O</td>\n",
       "    </tr>\n",
       "    <tr>\n",
       "      <th>4</th>\n",
       "      <td>Chicago Bulls</td>\n",
       "      <td>40.5 41 O</td>\n",
       "      <td>46.5 62 O</td>\n",
       "      <td>47.5 45 U</td>\n",
       "      <td>56.5 48 U</td>\n",
       "      <td>55.5 50 U</td>\n",
       "      <td>50.5 42 U</td>\n",
       "      <td>39 41 O</td>\n",
       "      <td>22 27 O</td>\n",
       "      <td>30 22 U</td>\n",
       "    </tr>\n",
       "  </tbody>\n",
       "</table>\n",
       "</div>"
      ],
      "text/plain": [
       "                Team      09-10      10-11      12-13      13-14      14-15  \\\n",
       "0      Atlanta Hawks  44.5 53 O  46.5 44 U  42.5 44 O  39.5 38 U  42.5 60 O   \n",
       "1     Boston Celtics  56.5 50 U  52.5 56 O  51.5 41 U  28.5 25 U    27 40 O   \n",
       "2      Brooklyn Nets  27.5 12 U  24.5 24 U  44.5 49 O  52.5 44 U  41.5 38 U   \n",
       "3  Charlotte Hornets  36.5 44 O  39.5 34 U  19.5 21 O    26 43 O    45 33 U   \n",
       "4      Chicago Bulls  40.5 41 O  46.5 62 O  47.5 45 U  56.5 48 U  55.5 50 U   \n",
       "\n",
       "       15-16      16-17      17-18      18-19  \n",
       "0  49.5 48 U  43.5 43 U  25.5 24 U  23.5 29 O  \n",
       "1  45.5 48 O  52.5 53 O  53.5 55 O    59 49 U  \n",
       "2  27.5 21 U  21.5 20 U  27.5 28 O    32 42 O  \n",
       "3    34 48 O  42.5 36 U  42.5 36 U  35.5 39 O  \n",
       "4  50.5 42 U    39 41 O    22 27 O    30 22 U  "
      ]
     },
     "execution_count": 3,
     "metadata": {},
     "output_type": "execute_result"
    }
   ],
   "source": [
    "url = 'https://www.sportsoddshistory.com/nba-regular-season-win-total-results-by-team/'\n",
    "info = pd.read_html(url)\n",
    "df = pd.DataFrame(info[0])\n",
    "df = df.droplevel(0, axis=1)\n",
    "df.drop(columns = [\"1990's\", \"2000's\", \"2010's\", \"1990 – 2019\", \"Streak\", \"11-12*\"], inplace = True)\n",
    "# not including 2011-12 because it was a strike shortened 66 game season.  \n",
    "df.head()"
   ]
  },
  {
   "cell_type": "code",
   "execution_count": 4,
   "id": "ac9643bf-2886-49bb-b4ec-2f4df8635ac5",
   "metadata": {
    "tags": []
   },
   "outputs": [
    {
     "data": {
      "text/html": [
       "<div>\n",
       "<style scoped>\n",
       "    .dataframe tbody tr th:only-of-type {\n",
       "        vertical-align: middle;\n",
       "    }\n",
       "\n",
       "    .dataframe tbody tr th {\n",
       "        vertical-align: top;\n",
       "    }\n",
       "\n",
       "    .dataframe thead th {\n",
       "        text-align: right;\n",
       "    }\n",
       "</style>\n",
       "<table border=\"1\" class=\"dataframe\">\n",
       "  <thead>\n",
       "    <tr style=\"text-align: right;\">\n",
       "      <th></th>\n",
       "      <th>Team</th>\n",
       "      <th>1</th>\n",
       "    </tr>\n",
       "  </thead>\n",
       "  <tbody>\n",
       "    <tr>\n",
       "      <th>0</th>\n",
       "      <td>Atlanta Hawks_10</td>\n",
       "      <td>44.5 53 O</td>\n",
       "    </tr>\n",
       "    <tr>\n",
       "      <th>1</th>\n",
       "      <td>Atlanta Hawks_11</td>\n",
       "      <td>46.5 44 U</td>\n",
       "    </tr>\n",
       "    <tr>\n",
       "      <th>2</th>\n",
       "      <td>Atlanta Hawks_13</td>\n",
       "      <td>42.5 44 O</td>\n",
       "    </tr>\n",
       "    <tr>\n",
       "      <th>3</th>\n",
       "      <td>Atlanta Hawks_14</td>\n",
       "      <td>39.5 38 U</td>\n",
       "    </tr>\n",
       "    <tr>\n",
       "      <th>4</th>\n",
       "      <td>Atlanta Hawks_15</td>\n",
       "      <td>42.5 60 O</td>\n",
       "    </tr>\n",
       "  </tbody>\n",
       "</table>\n",
       "</div>"
      ],
      "text/plain": [
       "               Team          1\n",
       "0  Atlanta Hawks_10  44.5 53 O\n",
       "1  Atlanta Hawks_11  46.5 44 U\n",
       "2  Atlanta Hawks_13  42.5 44 O\n",
       "3  Atlanta Hawks_14  39.5 38 U\n",
       "4  Atlanta Hawks_15  42.5 60 O"
      ]
     },
     "execution_count": 4,
     "metadata": {},
     "output_type": "execute_result"
    }
   ],
   "source": [
    "lst = []\n",
    "for i in range(df.shape[0]-1):\n",
    "    for col in df.drop(columns = 'Team').columns:\n",
    "        lst.append([f'{df.iloc[i][0]}_{col[-2:]}', df[col][i]])    \n",
    "\n",
    "df1 = pd.DataFrame(lst)\n",
    "df1.rename(columns = {0: 'Team'}, inplace = True)\n",
    "df1.head()"
   ]
  },
  {
   "cell_type": "markdown",
   "id": "0cd2b304-2f38-4b0a-aed0-208bbcb5dad9",
   "metadata": {},
   "source": [
    "### Scrape 2000-2009 data"
   ]
  },
  {
   "cell_type": "code",
   "execution_count": 5,
   "id": "a1e281fd-df79-4b3c-ac17-b95293c6e28b",
   "metadata": {},
   "outputs": [
    {
     "data": {
      "text/html": [
       "<div>\n",
       "<style scoped>\n",
       "    .dataframe tbody tr th:only-of-type {\n",
       "        vertical-align: middle;\n",
       "    }\n",
       "\n",
       "    .dataframe tbody tr th {\n",
       "        vertical-align: top;\n",
       "    }\n",
       "\n",
       "    .dataframe thead th {\n",
       "        text-align: right;\n",
       "    }\n",
       "</style>\n",
       "<table border=\"1\" class=\"dataframe\">\n",
       "  <thead>\n",
       "    <tr style=\"text-align: right;\">\n",
       "      <th></th>\n",
       "      <th>Team</th>\n",
       "      <th>99-00</th>\n",
       "      <th>01-02</th>\n",
       "      <th>02-03</th>\n",
       "      <th>03-04</th>\n",
       "      <th>04-05</th>\n",
       "      <th>05-06</th>\n",
       "      <th>06-07</th>\n",
       "      <th>07-08</th>\n",
       "      <th>08-09</th>\n",
       "    </tr>\n",
       "  </thead>\n",
       "  <tbody>\n",
       "    <tr>\n",
       "      <th>0</th>\n",
       "      <td>Atlanta Hawks</td>\n",
       "      <td>46.5 28 U</td>\n",
       "      <td>36.5 33 U</td>\n",
       "      <td>41.5 35 U</td>\n",
       "      <td>33 28 U</td>\n",
       "      <td>27.5 13 U</td>\n",
       "      <td>21.5 26 O</td>\n",
       "      <td>28 30 O</td>\n",
       "      <td>38.5 37 U</td>\n",
       "      <td>36.5 47 O</td>\n",
       "    </tr>\n",
       "    <tr>\n",
       "      <th>1</th>\n",
       "      <td>Boston Celtics</td>\n",
       "      <td>36.5 35 U</td>\n",
       "      <td>35.5 49 O</td>\n",
       "      <td>47.5 44 U</td>\n",
       "      <td>43.5 36 U</td>\n",
       "      <td>40.5 45 O</td>\n",
       "      <td>40.5 33 U</td>\n",
       "      <td>35 24 U</td>\n",
       "      <td>49.5 66 O</td>\n",
       "      <td>53.5 62 O</td>\n",
       "    </tr>\n",
       "    <tr>\n",
       "      <th>2</th>\n",
       "      <td>Brooklyn Nets</td>\n",
       "      <td>40.5 31 U</td>\n",
       "      <td>35.5 52 O</td>\n",
       "      <td>52.5 49 U</td>\n",
       "      <td>51.5 47 U</td>\n",
       "      <td>37.5 42 O</td>\n",
       "      <td>47 49 O</td>\n",
       "      <td>46.5 41 U</td>\n",
       "      <td>43.5 34 U</td>\n",
       "      <td>27.5 34 O</td>\n",
       "    </tr>\n",
       "    <tr>\n",
       "      <th>3</th>\n",
       "      <td>Charlotte Hornets</td>\n",
       "      <td>49.5 49 U</td>\n",
       "      <td>45.5 44 U</td>\n",
       "      <td>NaN</td>\n",
       "      <td>NaN</td>\n",
       "      <td>16.5 18 O</td>\n",
       "      <td>21 26 O</td>\n",
       "      <td>32 33 O</td>\n",
       "      <td>35.5 32 U</td>\n",
       "      <td>36.5 35 U</td>\n",
       "    </tr>\n",
       "    <tr>\n",
       "      <th>4</th>\n",
       "      <td>Chicago Bulls</td>\n",
       "      <td>27.5 17 U</td>\n",
       "      <td>18.5 21 O</td>\n",
       "      <td>30.5 30 U</td>\n",
       "      <td>36.5 23 U</td>\n",
       "      <td>32.5 47 O</td>\n",
       "      <td>43 41 U</td>\n",
       "      <td>48 49 O</td>\n",
       "      <td>50.5 33 U</td>\n",
       "      <td>40.5 41 O</td>\n",
       "    </tr>\n",
       "  </tbody>\n",
       "</table>\n",
       "</div>"
      ],
      "text/plain": [
       "                Team      99-00      01-02      02-03      03-04      04-05  \\\n",
       "0      Atlanta Hawks  46.5 28 U  36.5 33 U  41.5 35 U    33 28 U  27.5 13 U   \n",
       "1     Boston Celtics  36.5 35 U  35.5 49 O  47.5 44 U  43.5 36 U  40.5 45 O   \n",
       "2      Brooklyn Nets  40.5 31 U  35.5 52 O  52.5 49 U  51.5 47 U  37.5 42 O   \n",
       "3  Charlotte Hornets  49.5 49 U  45.5 44 U        NaN        NaN  16.5 18 O   \n",
       "4      Chicago Bulls  27.5 17 U  18.5 21 O  30.5 30 U  36.5 23 U  32.5 47 O   \n",
       "\n",
       "       05-06      06-07      07-08      08-09  \n",
       "0  21.5 26 O    28 30 O  38.5 37 U  36.5 47 O  \n",
       "1  40.5 33 U    35 24 U  49.5 66 O  53.5 62 O  \n",
       "2    47 49 O  46.5 41 U  43.5 34 U  27.5 34 O  \n",
       "3    21 26 O    32 33 O  35.5 32 U  36.5 35 U  \n",
       "4    43 41 U    48 49 O  50.5 33 U  40.5 41 O  "
      ]
     },
     "execution_count": 5,
     "metadata": {},
     "output_type": "execute_result"
    }
   ],
   "source": [
    "url = 'https://www.sportsoddshistory.com/nba-regular-season-win-total-results-by-team-2000s/'\n",
    "info = pd.read_html(url)\n",
    "df = pd.DataFrame(info[0])\n",
    "df.drop(columns = ['00-01', \"2000's Record (Over-Under-Push)\"], inplace = True) #drop 00-01 due to lack of data\n",
    "df.head()"
   ]
  },
  {
   "cell_type": "code",
   "execution_count": 6,
   "id": "d44b7154-e787-42ba-bfb5-23f213218c73",
   "metadata": {},
   "outputs": [
    {
     "data": {
      "text/html": [
       "<div>\n",
       "<style scoped>\n",
       "    .dataframe tbody tr th:only-of-type {\n",
       "        vertical-align: middle;\n",
       "    }\n",
       "\n",
       "    .dataframe tbody tr th {\n",
       "        vertical-align: top;\n",
       "    }\n",
       "\n",
       "    .dataframe thead th {\n",
       "        text-align: right;\n",
       "    }\n",
       "</style>\n",
       "<table border=\"1\" class=\"dataframe\">\n",
       "  <thead>\n",
       "    <tr style=\"text-align: right;\">\n",
       "      <th></th>\n",
       "      <th>Team</th>\n",
       "      <th>1</th>\n",
       "    </tr>\n",
       "  </thead>\n",
       "  <tbody>\n",
       "    <tr>\n",
       "      <th>0</th>\n",
       "      <td>Atlanta Hawks_00</td>\n",
       "      <td>46.5 28 U</td>\n",
       "    </tr>\n",
       "    <tr>\n",
       "      <th>1</th>\n",
       "      <td>Atlanta Hawks_02</td>\n",
       "      <td>36.5 33 U</td>\n",
       "    </tr>\n",
       "    <tr>\n",
       "      <th>2</th>\n",
       "      <td>Atlanta Hawks_03</td>\n",
       "      <td>41.5 35 U</td>\n",
       "    </tr>\n",
       "    <tr>\n",
       "      <th>3</th>\n",
       "      <td>Atlanta Hawks_04</td>\n",
       "      <td>33 28 U</td>\n",
       "    </tr>\n",
       "    <tr>\n",
       "      <th>4</th>\n",
       "      <td>Atlanta Hawks_05</td>\n",
       "      <td>27.5 13 U</td>\n",
       "    </tr>\n",
       "  </tbody>\n",
       "</table>\n",
       "</div>"
      ],
      "text/plain": [
       "               Team          1\n",
       "0  Atlanta Hawks_00  46.5 28 U\n",
       "1  Atlanta Hawks_02  36.5 33 U\n",
       "2  Atlanta Hawks_03  41.5 35 U\n",
       "3  Atlanta Hawks_04    33 28 U\n",
       "4  Atlanta Hawks_05  27.5 13 U"
      ]
     },
     "execution_count": 6,
     "metadata": {},
     "output_type": "execute_result"
    }
   ],
   "source": [
    "lst2 = []\n",
    "for i in range(df.shape[0]-1):\n",
    "    for col in df.drop(columns = 'Team').columns:\n",
    "        lst2.append([f'{df.iloc[i][0]}_{col[-2:]}', df[col][i]]) \n",
    "\n",
    "df2 = pd.DataFrame(lst2)\n",
    "df2.rename(columns = {0: 'Team'}, inplace = True)\n",
    "df2.head()"
   ]
  },
  {
   "cell_type": "markdown",
   "id": "c8178916-5632-4b60-b8ac-e58017039c8b",
   "metadata": {},
   "source": [
    "### Merge data from 2000-2009 with 2010-2019"
   ]
  },
  {
   "cell_type": "code",
   "execution_count": 7,
   "id": "1a99ffd8-3ff0-4d10-9fe4-2eb92788b487",
   "metadata": {},
   "outputs": [
    {
     "data": {
      "text/plain": [
       "((261, 2), (261, 2))"
      ]
     },
     "execution_count": 7,
     "metadata": {},
     "output_type": "execute_result"
    }
   ],
   "source": [
    "df1.shape, df2.shape"
   ]
  },
  {
   "cell_type": "code",
   "execution_count": 8,
   "id": "93dc95d8-0561-45cb-b740-c139a356d198",
   "metadata": {
    "tags": []
   },
   "outputs": [
    {
     "data": {
      "text/plain": [
       "(522, 2)"
      ]
     },
     "execution_count": 8,
     "metadata": {},
     "output_type": "execute_result"
    }
   ],
   "source": [
    "df = pd.concat([df2, df1])\n",
    "df.shape"
   ]
  },
  {
   "cell_type": "code",
   "execution_count": 9,
   "id": "b48d4885-7269-4ead-aa25-8b09f8e67027",
   "metadata": {},
   "outputs": [
    {
     "data": {
      "text/plain": [
       "(522, 2)"
      ]
     },
     "execution_count": 9,
     "metadata": {},
     "output_type": "execute_result"
    }
   ],
   "source": [
    "df.shape"
   ]
  },
  {
   "cell_type": "code",
   "execution_count": 10,
   "id": "db3937cd-e9c1-48f4-b2ec-09d7546e9275",
   "metadata": {},
   "outputs": [],
   "source": [
    "df.dropna(inplace = True)"
   ]
  },
  {
   "cell_type": "code",
   "execution_count": 11,
   "id": "3599a43d-119f-4acb-a96e-7810748cc3fc",
   "metadata": {},
   "outputs": [
    {
     "data": {
      "text/html": [
       "<div>\n",
       "<style scoped>\n",
       "    .dataframe tbody tr th:only-of-type {\n",
       "        vertical-align: middle;\n",
       "    }\n",
       "\n",
       "    .dataframe tbody tr th {\n",
       "        vertical-align: top;\n",
       "    }\n",
       "\n",
       "    .dataframe thead th {\n",
       "        text-align: right;\n",
       "    }\n",
       "</style>\n",
       "<table border=\"1\" class=\"dataframe\">\n",
       "  <thead>\n",
       "    <tr style=\"text-align: right;\">\n",
       "      <th></th>\n",
       "      <th>Team</th>\n",
       "      <th>win_total</th>\n",
       "      <th>actual_wins</th>\n",
       "      <th>result</th>\n",
       "    </tr>\n",
       "  </thead>\n",
       "  <tbody>\n",
       "    <tr>\n",
       "      <th>0</th>\n",
       "      <td>Atlanta Hawks_00</td>\n",
       "      <td>46.5</td>\n",
       "      <td>28</td>\n",
       "      <td>U</td>\n",
       "    </tr>\n",
       "    <tr>\n",
       "      <th>1</th>\n",
       "      <td>Atlanta Hawks_02</td>\n",
       "      <td>36.5</td>\n",
       "      <td>33</td>\n",
       "      <td>U</td>\n",
       "    </tr>\n",
       "    <tr>\n",
       "      <th>2</th>\n",
       "      <td>Atlanta Hawks_03</td>\n",
       "      <td>41.5</td>\n",
       "      <td>35</td>\n",
       "      <td>U</td>\n",
       "    </tr>\n",
       "    <tr>\n",
       "      <th>3</th>\n",
       "      <td>Atlanta Hawks_04</td>\n",
       "      <td>33</td>\n",
       "      <td>28</td>\n",
       "      <td>U</td>\n",
       "    </tr>\n",
       "    <tr>\n",
       "      <th>4</th>\n",
       "      <td>Atlanta Hawks_05</td>\n",
       "      <td>27.5</td>\n",
       "      <td>13</td>\n",
       "      <td>U</td>\n",
       "    </tr>\n",
       "  </tbody>\n",
       "</table>\n",
       "</div>"
      ],
      "text/plain": [
       "               Team win_total actual_wins result\n",
       "0  Atlanta Hawks_00      46.5          28      U\n",
       "1  Atlanta Hawks_02      36.5          33      U\n",
       "2  Atlanta Hawks_03      41.5          35      U\n",
       "3  Atlanta Hawks_04        33          28      U\n",
       "4  Atlanta Hawks_05      27.5          13      U"
      ]
     },
     "execution_count": 11,
     "metadata": {},
     "output_type": "execute_result"
    }
   ],
   "source": [
    "df['win_total'] = df[1].map(lambda x: x.split()[0])\n",
    "df['actual_wins'] = df[1].map(lambda x: x.split()[1])\n",
    "df['result'] = df[1].map(lambda x: x.split()[2])\n",
    "df.drop(columns = 1, inplace=True)\n",
    "df.head()"
   ]
  },
  {
   "cell_type": "code",
   "execution_count": 12,
   "id": "60cb8610-c82b-4945-866b-d267931bed1d",
   "metadata": {},
   "outputs": [
    {
     "data": {
      "text/plain": [
       "(518, 4)"
      ]
     },
     "execution_count": 12,
     "metadata": {},
     "output_type": "execute_result"
    }
   ],
   "source": [
    "df.shape"
   ]
  },
  {
   "cell_type": "code",
   "execution_count": 13,
   "id": "3a8010e5-55a9-422e-a23b-218c51f1b55b",
   "metadata": {},
   "outputs": [
    {
     "data": {
      "text/html": [
       "<div>\n",
       "<style scoped>\n",
       "    .dataframe tbody tr th:only-of-type {\n",
       "        vertical-align: middle;\n",
       "    }\n",
       "\n",
       "    .dataframe tbody tr th {\n",
       "        vertical-align: top;\n",
       "    }\n",
       "\n",
       "    .dataframe thead th {\n",
       "        text-align: right;\n",
       "    }\n",
       "</style>\n",
       "<table border=\"1\" class=\"dataframe\">\n",
       "  <thead>\n",
       "    <tr style=\"text-align: right;\">\n",
       "      <th></th>\n",
       "      <th>Team</th>\n",
       "      <th>win_total</th>\n",
       "      <th>actual_wins</th>\n",
       "      <th>result</th>\n",
       "    </tr>\n",
       "  </thead>\n",
       "  <tbody>\n",
       "  </tbody>\n",
       "</table>\n",
       "</div>"
      ],
      "text/plain": [
       "Empty DataFrame\n",
       "Columns: [Team, win_total, actual_wins, result]\n",
       "Index: []"
      ]
     },
     "execution_count": 13,
     "metadata": {},
     "output_type": "execute_result"
    }
   ],
   "source": [
    "df.loc[df.Team == 'Boston Celtics_18-19']"
   ]
  },
  {
   "cell_type": "markdown",
   "id": "fe86f8ff-82cc-4636-9304-401d6d9e16ce",
   "metadata": {},
   "source": [
    "### Scrape 20-21, and 21-22 from basketball-reference"
   ]
  },
  {
   "cell_type": "code",
   "execution_count": 14,
   "id": "f4e75575-e090-469e-869b-8b4cad799834",
   "metadata": {},
   "outputs": [
    {
     "data": {
      "text/html": [
       "<div>\n",
       "<style scoped>\n",
       "    .dataframe tbody tr th:only-of-type {\n",
       "        vertical-align: middle;\n",
       "    }\n",
       "\n",
       "    .dataframe tbody tr th {\n",
       "        vertical-align: top;\n",
       "    }\n",
       "\n",
       "    .dataframe thead th {\n",
       "        text-align: right;\n",
       "    }\n",
       "</style>\n",
       "<table border=\"1\" class=\"dataframe\">\n",
       "  <thead>\n",
       "    <tr style=\"text-align: right;\">\n",
       "      <th></th>\n",
       "      <th>Team</th>\n",
       "      <th>win_total</th>\n",
       "      <th>actual_wins</th>\n",
       "      <th>result</th>\n",
       "    </tr>\n",
       "  </thead>\n",
       "  <tbody>\n",
       "    <tr>\n",
       "      <th>0</th>\n",
       "      <td>Los Angeles Lakers_21</td>\n",
       "      <td>47.5</td>\n",
       "      <td>42</td>\n",
       "      <td>U</td>\n",
       "    </tr>\n",
       "    <tr>\n",
       "      <th>1</th>\n",
       "      <td>Milwaukee Bucks_21</td>\n",
       "      <td>49.5</td>\n",
       "      <td>46</td>\n",
       "      <td>U</td>\n",
       "    </tr>\n",
       "    <tr>\n",
       "      <th>2</th>\n",
       "      <td>Brooklyn Nets_21</td>\n",
       "      <td>45.5</td>\n",
       "      <td>48</td>\n",
       "      <td>O</td>\n",
       "    </tr>\n",
       "    <tr>\n",
       "      <th>3</th>\n",
       "      <td>Los Angeles Clippers_21</td>\n",
       "      <td>46.5</td>\n",
       "      <td>47</td>\n",
       "      <td>O</td>\n",
       "    </tr>\n",
       "    <tr>\n",
       "      <th>4</th>\n",
       "      <td>Boston Celtics_21</td>\n",
       "      <td>44.5</td>\n",
       "      <td>36</td>\n",
       "      <td>U</td>\n",
       "    </tr>\n",
       "  </tbody>\n",
       "</table>\n",
       "</div>"
      ],
      "text/plain": [
       "                      Team  win_total actual_wins result\n",
       "0    Los Angeles Lakers_21       47.5          42      U\n",
       "1       Milwaukee Bucks_21       49.5          46      U\n",
       "2         Brooklyn Nets_21       45.5          48      O\n",
       "3  Los Angeles Clippers_21       46.5          47      O\n",
       "4        Boston Celtics_21       44.5          36      U"
      ]
     },
     "execution_count": 14,
     "metadata": {},
     "output_type": "execute_result"
    }
   ],
   "source": [
    "url = 'https://www.basketball-reference.com/leagues/NBA_2021_preseason_odds.html'\n",
    "info = pd.read_html(url)\n",
    "df_21 = pd.DataFrame(info[0])\n",
    "df_21.drop(columns = ['Unnamed: 2', 'Odds'], inplace = True)\n",
    "df_21.rename(columns = {'W-L O/U': 'win_total'}, inplace = True)\n",
    "df_21.head()\n",
    "\n",
    "df_21['actual_wins'] = df_21['Result'].map(lambda x: x.split()[0][:2])\n",
    "df_21['result'] = df_21['Result'].map(lambda x: x.split()[1][1:2].upper())\n",
    "df_21.drop(columns = 'Result', inplace = True)\n",
    "df_21['Team'] = df_21['Team'] + '_' + '21'\n",
    "df_21.head()"
   ]
  },
  {
   "cell_type": "code",
   "execution_count": 15,
   "id": "8c8e687f-987e-481a-9110-a379486a120e",
   "metadata": {},
   "outputs": [
    {
     "data": {
      "text/html": [
       "<div>\n",
       "<style scoped>\n",
       "    .dataframe tbody tr th:only-of-type {\n",
       "        vertical-align: middle;\n",
       "    }\n",
       "\n",
       "    .dataframe tbody tr th {\n",
       "        vertical-align: top;\n",
       "    }\n",
       "\n",
       "    .dataframe thead th {\n",
       "        text-align: right;\n",
       "    }\n",
       "</style>\n",
       "<table border=\"1\" class=\"dataframe\">\n",
       "  <thead>\n",
       "    <tr style=\"text-align: right;\">\n",
       "      <th></th>\n",
       "      <th>Team</th>\n",
       "      <th>win_total</th>\n",
       "      <th>actual_wins</th>\n",
       "      <th>result</th>\n",
       "    </tr>\n",
       "  </thead>\n",
       "  <tbody>\n",
       "    <tr>\n",
       "      <th>0</th>\n",
       "      <td>Brooklyn Nets_22</td>\n",
       "      <td>56.5</td>\n",
       "      <td>44</td>\n",
       "      <td>U</td>\n",
       "    </tr>\n",
       "    <tr>\n",
       "      <th>1</th>\n",
       "      <td>Los Angeles Lakers_22</td>\n",
       "      <td>52.5</td>\n",
       "      <td>33</td>\n",
       "      <td>U</td>\n",
       "    </tr>\n",
       "    <tr>\n",
       "      <th>2</th>\n",
       "      <td>Milwaukee Bucks_22</td>\n",
       "      <td>54.5</td>\n",
       "      <td>51</td>\n",
       "      <td>U</td>\n",
       "    </tr>\n",
       "    <tr>\n",
       "      <th>3</th>\n",
       "      <td>Golden State Warriors_22</td>\n",
       "      <td>48.5</td>\n",
       "      <td>53</td>\n",
       "      <td>O</td>\n",
       "    </tr>\n",
       "    <tr>\n",
       "      <th>4</th>\n",
       "      <td>Utah Jazz_22</td>\n",
       "      <td>52.5</td>\n",
       "      <td>49</td>\n",
       "      <td>U</td>\n",
       "    </tr>\n",
       "  </tbody>\n",
       "</table>\n",
       "</div>"
      ],
      "text/plain": [
       "                       Team  win_total actual_wins result\n",
       "0          Brooklyn Nets_22       56.5          44      U\n",
       "1     Los Angeles Lakers_22       52.5          33      U\n",
       "2        Milwaukee Bucks_22       54.5          51      U\n",
       "3  Golden State Warriors_22       48.5          53      O\n",
       "4              Utah Jazz_22       52.5          49      U"
      ]
     },
     "execution_count": 15,
     "metadata": {},
     "output_type": "execute_result"
    }
   ],
   "source": [
    "url = 'https://www.basketball-reference.com/leagues/NBA_2022_preseason_odds.html'\n",
    "info = pd.read_html(url)\n",
    "df_22 = pd.DataFrame(info[0])\n",
    "df_22.drop(columns = ['Unnamed: 2', 'Odds'], inplace = True)\n",
    "df_22.rename(columns = {'W-L O/U': 'win_total'}, inplace = True)\n",
    "df_22['actual_wins'] = df_22['Result'].map(lambda x: x.split()[0][:2])\n",
    "df_22['result'] = df_22['Result'].map(lambda x: x.split()[1][1:2].upper())\n",
    "df_22.drop(columns = 'Result', inplace = True)\n",
    "df_22['Team'] = df_22['Team'] + '_' + '22'\n",
    "df_22.head()"
   ]
  },
  {
   "cell_type": "code",
   "execution_count": 16,
   "id": "76b596c0-e83b-4b6d-8ab9-49cdf26d5930",
   "metadata": {},
   "outputs": [
    {
     "data": {
      "text/plain": [
       "((30, 4), (30, 4))"
      ]
     },
     "execution_count": 16,
     "metadata": {},
     "output_type": "execute_result"
    }
   ],
   "source": [
    "df_21.shape, df_22.shape"
   ]
  },
  {
   "cell_type": "code",
   "execution_count": 17,
   "id": "58a64c17-4b21-4ccb-a2c7-0f303f45873d",
   "metadata": {},
   "outputs": [
    {
     "data": {
      "text/plain": [
       "(60, 4)"
      ]
     },
     "execution_count": 17,
     "metadata": {},
     "output_type": "execute_result"
    }
   ],
   "source": [
    "df_21_22 = pd.concat([df_21,df_22])\n",
    "df_21_22.shape"
   ]
  },
  {
   "cell_type": "markdown",
   "id": "1dfa60d2-d1a9-4fcc-91f6-e438aee2a779",
   "metadata": {},
   "source": [
    "### Concat everything together and save to `.csv`"
   ]
  },
  {
   "cell_type": "code",
   "execution_count": 18,
   "id": "cc88b267-e2a6-46ff-93c4-4b55909d5fa9",
   "metadata": {},
   "outputs": [
    {
     "data": {
      "text/plain": [
       "(578, 4)"
      ]
     },
     "execution_count": 18,
     "metadata": {},
     "output_type": "execute_result"
    }
   ],
   "source": [
    "df_all = pd.concat([df,df_21_22])\n",
    "df_all.shape"
   ]
  },
  {
   "cell_type": "code",
   "execution_count": 20,
   "id": "4462bb93-4cdc-4b2c-ac16-ad7997cda358",
   "metadata": {},
   "outputs": [],
   "source": [
    "df_all.to_csv('historical_over_under_data.csv', index = False)"
   ]
  },
  {
   "cell_type": "code",
   "execution_count": null,
   "id": "2d079e94-9059-4ce6-a485-5eb7c89b351c",
   "metadata": {},
   "outputs": [],
   "source": []
  }
 ],
 "metadata": {
  "kernelspec": {
   "display_name": "Python 3 (ipykernel)",
   "language": "python",
   "name": "python3"
  },
  "language_info": {
   "codemirror_mode": {
    "name": "ipython",
    "version": 3
   },
   "file_extension": ".py",
   "mimetype": "text/x-python",
   "name": "python",
   "nbconvert_exporter": "python",
   "pygments_lexer": "ipython3",
   "version": "3.9.7"
  }
 },
 "nbformat": 4,
 "nbformat_minor": 5
}
